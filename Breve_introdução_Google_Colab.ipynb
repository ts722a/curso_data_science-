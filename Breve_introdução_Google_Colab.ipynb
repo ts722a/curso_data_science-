{
  "nbformat": 4,
  "nbformat_minor": 0,
  "metadata": {
    "colab": {
      "name": "Google_Colab.ipynb",
      "provenance": [],
      "collapsed_sections": [],
      "authorship_tag": "ABX9TyME0VRbwRAXxC/zrMEwLeuJ",
      "include_colab_link": true
    },
    "kernelspec": {
      "name": "python3",
      "display_name": "Python 3"
    }
  },
  "cells": [
    {
      "cell_type": "markdown",
      "metadata": {
        "id": "view-in-github",
        "colab_type": "text"
      },
      "source": [
        "<a href=\"https://colab.research.google.com/github/ts722a/curso_data_science-/blob/master/Breve_introdu%C3%A7%C3%A3o_Google_Colab.ipynb\" target=\"_parent\"><img src=\"https://colab.research.google.com/assets/colab-badge.svg\" alt=\"Open In Colab\"/></a>"
      ]
    },
    {
      "cell_type": "markdown",
      "metadata": {
        "id": "h41k7J1nCDGL",
        "colab_type": "text"
      },
      "source": [
        "# **Google Colab**\n",
        " ### Uma breve introdução\n"
      ]
    },
    {
      "cell_type": "markdown",
      "metadata": {
        "id": "IGJDdmT3JgKO",
        "colab_type": "text"
      },
      "source": [
        "Olá o Google colab é uma plataforma Jupyter notebook na Nuvem que permite você executar seus códigos, sem a necessidade de instalação de programas em sua máquina. \n",
        "\n"
      ]
    },
    {
      "cell_type": "markdown",
      "metadata": {
        "id": "FnjD1xc7LnkR",
        "colab_type": "text"
      },
      "source": [
        "##Ambiente compartilhado \n",
        " Entre as vatagens de usar o **Google Colab** está o fato de poder executar o código e manter ele salvo em sua conta Gmail.\n",
        " Imagina que você desenvolveu um programa a muito tempo e por algum motivo foi solicitado a recuperação da informação desse programa. Se você desenvolveu em sua maquina pessoal ou de trabalho e não está com ela, como fazer para gerar a informação do programa ? Aposto que terá um trabalhão para recuperar.\n",
        " Agora se você criou seu programa no **Google Colab** basta apenas acessar o site: https://colab.research e encontrar seus programas salvos. \"Bem mais simples rsrs\".\n",
        "\n",
        " Vamos ver como é simples trabalhar com ele:\n"
      ]
    },
    {
      "cell_type": "code",
      "metadata": {
        "id": "cfMJ2GYtIHqa",
        "colab_type": "code",
        "outputId": "10f53c42-0fd2-49c7-88ed-9f32b011f86c",
        "colab": {
          "base_uri": "https://localhost:8080/",
          "height": 34
        }
      },
      "source": [
        "nota1 = 5\n",
        "nota2 = 8\n",
        "nota3 = 10\n",
        "media = (nota1 + nota2 + nota3)/3 \n",
        "print (media)"
      ],
      "execution_count": 0,
      "outputs": [
        {
          "output_type": "stream",
          "text": [
            "7.666666666666667\n"
          ],
          "name": "stdout"
        }
      ]
    },
    {
      "cell_type": "markdown",
      "metadata": {
        "id": "veo7pRF8O65T",
        "colab_type": "text"
      },
      "source": [
        "Acima executamos um código e antes estamos apenas escrevendo texto. \n",
        "Essa é uma das vantagens o **Jupyter Notebook**, você consegue documentar e replicar os código.  \n",
        "\n"
      ]
    },
    {
      "cell_type": "markdown",
      "metadata": {
        "id": "zK4ivU2iQdCT",
        "colab_type": "text"
      },
      "source": [
        "##Dicas de atalho do Jupyter\n",
        "\n",
        "Sempre é bom sabermos os atalhos para agilizamos os processo, mas você pode utilizar as opções apresentada no menu em cima.\n",
        "\n",
        "* Aperte **Shift + Enter** para executar a célula selecionada;\n",
        "* Aperte **Ctrl + M** seguindo por **B** para criar uma célula nóva abaixo;\n",
        "* Aperte **Ctrl + M** seguindo por **A** para criar uma célula nóva acima;\n"
      ]
    },
    {
      "cell_type": "markdown",
      "metadata": {
        "id": "QZ_fjNQuTC3d",
        "colab_type": "text"
      },
      "source": [
        "## Sistema do Jupyter \n",
        "\n",
        "No back end executa um Sistema Operacional LINUX, com isso é possível acessar o próprio sistema por comando de terminal. \n",
        "Segue alguns exemplos: \n",
        "\n",
        "* ! ls / -l : lista todos arquivo de uma pasta;\n",
        "* ! ls : mostra o que tem no diretório  \n",
        "* ! pwd : mostra o diretório corrente\n",
        "* ! touch zexx: cria um arquivo\n",
        "* ! rm -r arquivo : deleta um arquivo"
      ]
    },
    {
      "cell_type": "code",
      "metadata": {
        "id": "Z5Q074IRWREn",
        "colab_type": "code",
        "outputId": "117ffbc2-5b36-48f8-bfee-a51cd843c9ae",
        "colab": {
          "base_uri": "https://localhost:8080/",
          "height": 34
        }
      },
      "source": [
        "! pwd"
      ],
      "execution_count": 0,
      "outputs": [
        {
          "output_type": "stream",
          "text": [
            "/content\n"
          ],
          "name": "stdout"
        }
      ]
    },
    {
      "cell_type": "code",
      "metadata": {
        "id": "SqHVv3BEWYL3",
        "colab_type": "code",
        "colab": {}
      },
      "source": [
        "! touch zexx"
      ],
      "execution_count": 0,
      "outputs": []
    },
    {
      "cell_type": "code",
      "metadata": {
        "id": "fKyGYz1NWunB",
        "colab_type": "code",
        "outputId": "29a0b76a-eea0-485c-f1d5-3f74fa5de488",
        "colab": {
          "base_uri": "https://localhost:8080/",
          "height": 34
        }
      },
      "source": [
        "! date"
      ],
      "execution_count": 0,
      "outputs": [
        {
          "output_type": "stream",
          "text": [
            "Thu Jun  4 17:27:07 UTC 2020\n"
          ],
          "name": "stdout"
        }
      ]
    },
    {
      "cell_type": "code",
      "metadata": {
        "id": "hfibON5LXI8S",
        "colab_type": "code",
        "outputId": "9aef5c98-c465-4f4b-e600-9d6fdc9a79b7",
        "colab": {
          "base_uri": "https://localhost:8080/",
          "height": 34
        }
      },
      "source": [
        "! arch"
      ],
      "execution_count": 0,
      "outputs": [
        {
          "output_type": "stream",
          "text": [
            "x86_64\n"
          ],
          "name": "stdout"
        }
      ]
    },
    {
      "cell_type": "code",
      "metadata": {
        "id": "y-UMtP0tX_a2",
        "colab_type": "code",
        "colab": {}
      },
      "source": [
        "!mkdir tprog"
      ],
      "execution_count": 0,
      "outputs": []
    },
    {
      "cell_type": "code",
      "metadata": {
        "id": "RPdfzkpoYamb",
        "colab_type": "code",
        "outputId": "fc73b42f-345d-4bde-d3e0-a9daf3696694",
        "colab": {
          "base_uri": "https://localhost:8080/",
          "height": 493
        }
      },
      "source": [
        "! ls / -l \n"
      ],
      "execution_count": 0,
      "outputs": [
        {
          "output_type": "stream",
          "text": [
            "total 8056\n",
            "drwxr-xr-x   1 root root    4096 May 29 18:11 bin\n",
            "drwxr-xr-x   2 root root    4096 Apr 24  2018 boot\n",
            "drwxr-xr-x   1 root root    4096 Jun  4 17:29 content\n",
            "drwxr-xr-x   1 root root    4096 Jun  2 16:46 datalab\n",
            "drwxr-xr-x   5 root root     360 Jun  4 16:12 dev\n",
            "-rw-r--r--   1 root root 4078115 Jun  2 16:14 dlib-19.18.0-cp27-cp27mu-linux_x86_64.whl\n",
            "-rw-r--r--   1 root root 4068717 Jun  2 16:14 dlib-19.18.0-cp36-cp36m-linux_x86_64.whl\n",
            "drwxr-xr-x   1 root root    4096 Jun  4 16:12 etc\n",
            "drwxr-xr-x   2 root root    4096 Apr 24  2018 home\n",
            "drwxr-xr-x   1 root root    4096 May 29 18:13 lib\n",
            "drwxr-xr-x   2 root root    4096 May 29 18:06 lib32\n",
            "drwxr-xr-x   2 root root    4096 Oct 29  2019 lib64\n",
            "drwxr-xr-x   2 root root    4096 Oct 29  2019 media\n",
            "drwxr-xr-x   2 root root    4096 Oct 29  2019 mnt\n",
            "drwxr-xr-x   1 root root    4096 May 29 18:13 opt\n",
            "dr-xr-xr-x 105 root root       0 Jun  4 16:12 proc\n",
            "drwx------   1 root root    4096 Jun  4 16:12 root\n",
            "drwxr-xr-x   1 root root    4096 May 29 18:08 run\n",
            "drwxr-xr-x   1 root root    4096 May 29 18:11 sbin\n",
            "drwxr-xr-x   2 root root    4096 Oct 29  2019 srv\n",
            "drwxr-xr-x   4 root root    4096 Jun  2 16:46 swift\n",
            "dr-xr-xr-x  12 root root       0 Jun  4 17:20 sys\n",
            "drwxr-xr-x   4 root root    4096 Jun  2 16:41 tensorflow-1.15.2\n",
            "drwxrwxrwt   1 root root    4096 Jun  4 16:12 tmp\n",
            "drwxr-xr-x   1 root root    4096 Jun  2 16:46 tools\n",
            "drwxr-xr-x   1 root root    4096 May 29 18:13 usr\n",
            "drwxr-xr-x   1 root root    4096 Jun  4 16:12 var\n"
          ],
          "name": "stdout"
        }
      ]
    },
    {
      "cell_type": "code",
      "metadata": {
        "id": "n9bk4SVpYmxE",
        "colab_type": "code",
        "colab": {}
      },
      "source": [
        "! cd /usr"
      ],
      "execution_count": 0,
      "outputs": []
    },
    {
      "cell_type": "code",
      "metadata": {
        "id": "eWhADriZY08m",
        "colab_type": "code",
        "outputId": "3d0b2bf9-cb90-4bf1-8ff4-29e33955d4ee",
        "colab": {
          "base_uri": "https://localhost:8080/",
          "height": 34
        }
      },
      "source": [
        "!ls"
      ],
      "execution_count": 0,
      "outputs": [
        {
          "output_type": "stream",
          "text": [
            "'google colab.PNG'   sample_data   teste.txt   tprog   zexx\n"
          ],
          "name": "stdout"
        }
      ]
    },
    {
      "cell_type": "markdown",
      "metadata": {
        "id": "vglGNwHaahlp",
        "colab_type": "text"
      },
      "source": [
        "Também é possível você baixar arquivo por terminal, por exemplo:"
      ]
    },
    {
      "cell_type": "code",
      "metadata": {
        "id": "el-QLUHRasoS",
        "colab_type": "code",
        "outputId": "729c5ee7-daf3-47f1-9bf0-a1dadd494ca8",
        "colab": {
          "base_uri": "https://localhost:8080/",
          "height": 323
        }
      },
      "source": [
        "#baixando o arquivo csv do git\n",
        "!wget https://raw.githubusercontent.com/carlosfab/data_science/master/data/train.csv\n",
        "\n",
        "#ver o diretório que foi está o aquivo\n",
        "!ls -l"
      ],
      "execution_count": 0,
      "outputs": [
        {
          "output_type": "stream",
          "text": [
            "--2020-06-04 19:22:56--  https://raw.githubusercontent.com/carlosfab/data_science/master/data/train.csv\n",
            "Resolving raw.githubusercontent.com (raw.githubusercontent.com)... 151.101.0.133, 151.101.64.133, 151.101.128.133, ...\n",
            "Connecting to raw.githubusercontent.com (raw.githubusercontent.com)|151.101.0.133|:443... connected.\n",
            "HTTP request sent, awaiting response... 200 OK\n",
            "Length: 61194 (60K) [text/plain]\n",
            "Saving to: ‘train.csv’\n",
            "\n",
            "\rtrain.csv             0%[                    ]       0  --.-KB/s               \rtrain.csv           100%[===================>]  59.76K  --.-KB/s    in 0.02s   \n",
            "\n",
            "2020-06-04 19:22:56 (2.46 MB/s) - ‘train.csv’ saved [61194/61194]\n",
            "\n",
            "total 160\n",
            "-rw-r--r-- 1 root root 93912 Jun  4 16:16 'google colab.PNG'\n",
            "drwxr-xr-x 1 root root  4096 May 29 18:19  sample_data\n",
            "-rw-r--r-- 1 root root     0 Jun  4 17:17  teste.txt\n",
            "drwxr-xr-x 2 root root  4096 Jun  4 17:29  tprog\n",
            "-rw-r--r-- 1 root root 61194 Jun  4 19:22  train.csv\n",
            "-rw-r--r-- 1 root root     0 Jun  4 17:22  zexx\n"
          ],
          "name": "stdout"
        }
      ]
    },
    {
      "cell_type": "code",
      "metadata": {
        "id": "5tEYT9cFoCDK",
        "colab_type": "code",
        "colab": {}
      },
      "source": [
        "# deletando o arquivo train.csv.1\n",
        " !rm -r train.csv.1\n"
      ],
      "execution_count": 0,
      "outputs": []
    },
    {
      "cell_type": "code",
      "metadata": {
        "id": "DXRKIpTupFSV",
        "colab_type": "code",
        "outputId": "61eae535-2503-4440-d2f0-b0d3157599fa",
        "colab": {
          "base_uri": "https://localhost:8080/",
          "height": 136
        }
      },
      "source": [
        "!ls -l "
      ],
      "execution_count": 0,
      "outputs": [
        {
          "output_type": "stream",
          "text": [
            "total 596\n",
            "-rw-r--r-- 1 root root  93912 Jun  4 16:16 'google colab.PNG'\n",
            "drwxr-xr-x 1 root root   4096 May 29 18:19  sample_data\n",
            "-rw-r--r-- 1 root root      0 Jun  4 17:17  teste.txt\n",
            "drwxr-xr-x 2 root root   4096 Jun  4 17:29  tprog\n",
            "-rw-r--r-- 1 root root 507069 Jun  4 18:38  train.csv\n",
            "-rw-r--r-- 1 root root      0 Jun  4 17:22  zexx\n"
          ],
          "name": "stdout"
        }
      ]
    },
    {
      "cell_type": "markdown",
      "metadata": {
        "id": "HhUi5IHTvZf-",
        "colab_type": "text"
      },
      "source": [
        "# Auxílios do Jupyter \n",
        "\n",
        "Para ler o arquivo que foi baixado é necessário utilizar a biblioteca pandas, e utilizar o comando ```pd.read_csv()```."
      ]
    },
    {
      "cell_type": "markdown",
      "metadata": {
        "id": "mAh8588Fp33l",
        "colab_type": "text"
      },
      "source": [
        "# Grafícos do Colab e importanção de bibliotecas\n",
        "\n",
        "Vamos ver os códigos necessários para geração de um gráfico:\n"
      ]
    },
    {
      "cell_type": "code",
      "metadata": {
        "id": "nOomNw5bvHu1",
        "colab_type": "code",
        "colab": {}
      },
      "source": [
        "#importando a bilioteca pandas\n",
        "import pandas as pd "
      ],
      "execution_count": 0,
      "outputs": []
    },
    {
      "cell_type": "code",
      "metadata": {
        "id": "YALNvCkdwHoL",
        "colab_type": "code",
        "outputId": "9652f2b8-0d0b-48d5-a391-4395227c9d86",
        "colab": {
          "base_uri": "https://localhost:8080/",
          "height": 521
        }
      },
      "source": [
        "#lendo o arquivo CSV\n",
        "pd.read_csv('/content/train.csv')"
      ],
      "execution_count": 0,
      "outputs": [
        {
          "output_type": "execute_result",
          "data": {
            "text/html": [
              "<div>\n",
              "<style scoped>\n",
              "    .dataframe tbody tr th:only-of-type {\n",
              "        vertical-align: middle;\n",
              "    }\n",
              "\n",
              "    .dataframe tbody tr th {\n",
              "        vertical-align: top;\n",
              "    }\n",
              "\n",
              "    .dataframe thead th {\n",
              "        text-align: right;\n",
              "    }\n",
              "</style>\n",
              "<table border=\"1\" class=\"dataframe\">\n",
              "  <thead>\n",
              "    <tr style=\"text-align: right;\">\n",
              "      <th></th>\n",
              "      <th>PassengerId</th>\n",
              "      <th>Survived</th>\n",
              "      <th>Pclass</th>\n",
              "      <th>Name</th>\n",
              "      <th>Sex</th>\n",
              "      <th>Age</th>\n",
              "      <th>SibSp</th>\n",
              "      <th>Parch</th>\n",
              "      <th>Ticket</th>\n",
              "      <th>Fare</th>\n",
              "      <th>Cabin</th>\n",
              "      <th>Embarked</th>\n",
              "    </tr>\n",
              "  </thead>\n",
              "  <tbody>\n",
              "    <tr>\n",
              "      <th>0</th>\n",
              "      <td>1</td>\n",
              "      <td>0</td>\n",
              "      <td>3</td>\n",
              "      <td>Braund, Mr. Owen Harris</td>\n",
              "      <td>male</td>\n",
              "      <td>22.0</td>\n",
              "      <td>1</td>\n",
              "      <td>0</td>\n",
              "      <td>A/5 21171</td>\n",
              "      <td>7.2500</td>\n",
              "      <td>NaN</td>\n",
              "      <td>S</td>\n",
              "    </tr>\n",
              "    <tr>\n",
              "      <th>1</th>\n",
              "      <td>2</td>\n",
              "      <td>1</td>\n",
              "      <td>1</td>\n",
              "      <td>Cumings, Mrs. John Bradley (Florence Briggs Th...</td>\n",
              "      <td>female</td>\n",
              "      <td>38.0</td>\n",
              "      <td>1</td>\n",
              "      <td>0</td>\n",
              "      <td>PC 17599</td>\n",
              "      <td>71.2833</td>\n",
              "      <td>C85</td>\n",
              "      <td>C</td>\n",
              "    </tr>\n",
              "    <tr>\n",
              "      <th>2</th>\n",
              "      <td>3</td>\n",
              "      <td>1</td>\n",
              "      <td>3</td>\n",
              "      <td>Heikkinen, Miss. Laina</td>\n",
              "      <td>female</td>\n",
              "      <td>26.0</td>\n",
              "      <td>0</td>\n",
              "      <td>0</td>\n",
              "      <td>STON/O2. 3101282</td>\n",
              "      <td>7.9250</td>\n",
              "      <td>NaN</td>\n",
              "      <td>S</td>\n",
              "    </tr>\n",
              "    <tr>\n",
              "      <th>3</th>\n",
              "      <td>4</td>\n",
              "      <td>1</td>\n",
              "      <td>1</td>\n",
              "      <td>Futrelle, Mrs. Jacques Heath (Lily May Peel)</td>\n",
              "      <td>female</td>\n",
              "      <td>35.0</td>\n",
              "      <td>1</td>\n",
              "      <td>0</td>\n",
              "      <td>113803</td>\n",
              "      <td>53.1000</td>\n",
              "      <td>C123</td>\n",
              "      <td>S</td>\n",
              "    </tr>\n",
              "    <tr>\n",
              "      <th>4</th>\n",
              "      <td>5</td>\n",
              "      <td>0</td>\n",
              "      <td>3</td>\n",
              "      <td>Allen, Mr. William Henry</td>\n",
              "      <td>male</td>\n",
              "      <td>35.0</td>\n",
              "      <td>0</td>\n",
              "      <td>0</td>\n",
              "      <td>373450</td>\n",
              "      <td>8.0500</td>\n",
              "      <td>NaN</td>\n",
              "      <td>S</td>\n",
              "    </tr>\n",
              "    <tr>\n",
              "      <th>...</th>\n",
              "      <td>...</td>\n",
              "      <td>...</td>\n",
              "      <td>...</td>\n",
              "      <td>...</td>\n",
              "      <td>...</td>\n",
              "      <td>...</td>\n",
              "      <td>...</td>\n",
              "      <td>...</td>\n",
              "      <td>...</td>\n",
              "      <td>...</td>\n",
              "      <td>...</td>\n",
              "      <td>...</td>\n",
              "    </tr>\n",
              "    <tr>\n",
              "      <th>886</th>\n",
              "      <td>887</td>\n",
              "      <td>0</td>\n",
              "      <td>2</td>\n",
              "      <td>Montvila, Rev. Juozas</td>\n",
              "      <td>male</td>\n",
              "      <td>27.0</td>\n",
              "      <td>0</td>\n",
              "      <td>0</td>\n",
              "      <td>211536</td>\n",
              "      <td>13.0000</td>\n",
              "      <td>NaN</td>\n",
              "      <td>S</td>\n",
              "    </tr>\n",
              "    <tr>\n",
              "      <th>887</th>\n",
              "      <td>888</td>\n",
              "      <td>1</td>\n",
              "      <td>1</td>\n",
              "      <td>Graham, Miss. Margaret Edith</td>\n",
              "      <td>female</td>\n",
              "      <td>19.0</td>\n",
              "      <td>0</td>\n",
              "      <td>0</td>\n",
              "      <td>112053</td>\n",
              "      <td>30.0000</td>\n",
              "      <td>B42</td>\n",
              "      <td>S</td>\n",
              "    </tr>\n",
              "    <tr>\n",
              "      <th>888</th>\n",
              "      <td>889</td>\n",
              "      <td>0</td>\n",
              "      <td>3</td>\n",
              "      <td>Johnston, Miss. Catherine Helen \"Carrie\"</td>\n",
              "      <td>female</td>\n",
              "      <td>NaN</td>\n",
              "      <td>1</td>\n",
              "      <td>2</td>\n",
              "      <td>W./C. 6607</td>\n",
              "      <td>23.4500</td>\n",
              "      <td>NaN</td>\n",
              "      <td>S</td>\n",
              "    </tr>\n",
              "    <tr>\n",
              "      <th>889</th>\n",
              "      <td>890</td>\n",
              "      <td>1</td>\n",
              "      <td>1</td>\n",
              "      <td>Behr, Mr. Karl Howell</td>\n",
              "      <td>male</td>\n",
              "      <td>26.0</td>\n",
              "      <td>0</td>\n",
              "      <td>0</td>\n",
              "      <td>111369</td>\n",
              "      <td>30.0000</td>\n",
              "      <td>C148</td>\n",
              "      <td>C</td>\n",
              "    </tr>\n",
              "    <tr>\n",
              "      <th>890</th>\n",
              "      <td>891</td>\n",
              "      <td>0</td>\n",
              "      <td>3</td>\n",
              "      <td>Dooley, Mr. Patrick</td>\n",
              "      <td>male</td>\n",
              "      <td>32.0</td>\n",
              "      <td>0</td>\n",
              "      <td>0</td>\n",
              "      <td>370376</td>\n",
              "      <td>7.7500</td>\n",
              "      <td>NaN</td>\n",
              "      <td>Q</td>\n",
              "    </tr>\n",
              "  </tbody>\n",
              "</table>\n",
              "<p>891 rows × 12 columns</p>\n",
              "</div>"
            ],
            "text/plain": [
              "     PassengerId  Survived  Pclass  ...     Fare Cabin  Embarked\n",
              "0              1         0       3  ...   7.2500   NaN         S\n",
              "1              2         1       1  ...  71.2833   C85         C\n",
              "2              3         1       3  ...   7.9250   NaN         S\n",
              "3              4         1       1  ...  53.1000  C123         S\n",
              "4              5         0       3  ...   8.0500   NaN         S\n",
              "..           ...       ...     ...  ...      ...   ...       ...\n",
              "886          887         0       2  ...  13.0000   NaN         S\n",
              "887          888         1       1  ...  30.0000   B42         S\n",
              "888          889         0       3  ...  23.4500   NaN         S\n",
              "889          890         1       1  ...  30.0000  C148         C\n",
              "890          891         0       3  ...   7.7500   NaN         Q\n",
              "\n",
              "[891 rows x 12 columns]"
            ]
          },
          "metadata": {
            "tags": []
          },
          "execution_count": 41
        }
      ]
    },
    {
      "cell_type": "code",
      "metadata": {
        "id": "TaBoaKQTqfk9",
        "colab_type": "code",
        "outputId": "0dfdbaa5-18ac-4bba-a22c-26afe70a1350",
        "colab": {
          "base_uri": "https://localhost:8080/",
          "height": 265
        }
      },
      "source": [
        "\n",
        "\n",
        "#importanto a biblioteca matplotlib \n",
        "import matplotlib.pyplot as plt\n",
        "\n",
        "#import csv eliminando as linhas em brando \"NAN\"\n",
        "df = pd.read_csv(\"https://raw.githubusercontent.com/carlosfab/data_science/master/data/train.csv\")\n",
        "df.dropna(axis=0, inplace=True)\n",
        "\n",
        "#plotar gráfico histograma\n",
        "plt.hist(df.PassengerId)\n",
        "plt.show()\n"
      ],
      "execution_count": 0,
      "outputs": [
        {
          "output_type": "display_data",
          "data": {
            "image/png": "[encoded data removed]",
            "text/plain": [
              "<Figure size 432x288 with 1 Axes>"
            ]
          },
          "metadata": {
            "tags": [],
            "needs_background": "light"
          }
        }
      ]
    },
    {
      "cell_type": "markdown",
      "metadata": {
        "id": "TJ7TXwdz195s",
        "colab_type": "text"
      },
      "source": [
        "# Importando biblioteca que não vem instalada\n",
        "\n",
        "O **Google colab** já vem com as principais bibliotecas para Data Science e Machine Learning, mas caso haja necessidade de instalar outro pacote, segue comando de instalação: \n",
        "```pip install```.\n"
      ]
    },
    {
      "cell_type": "code",
      "metadata": {
        "id": "0zHlQAcq25aq",
        "colab_type": "code",
        "colab": {}
      },
      "source": [
        "!pip install -q ga2"
      ],
      "execution_count": 0,
      "outputs": []
    },
    {
      "cell_type": "markdown",
      "metadata": {
        "id": "ZOPJE-PP5wiO",
        "colab_type": "text"
      },
      "source": [
        "# Salvando notebook no Github\n",
        "Sempre que é aberto qual quer notebook no Colab, é realizado uma copia automática do mesmo. Logo você pode modificar o notebook, pois o original não será alterado. \n",
        "\n",
        "Para salvar os notebooks no Github é muito simples: \n",
        "\n",
        "**File→Save a copy to GitHub** no menu principal e fornecer as permissões de acesso necessárias.\n",
        "\n",
        "Caso queria salvar no seu google drive: \n",
        "\n",
        "**File→Save a copy in Drive**."
      ]
    },
    {
      "cell_type": "markdown",
      "metadata": {
        "id": "G3QjLNj565VJ",
        "colab_type": "text"
      },
      "source": [
        "# Usando códigos prontos\n",
        "\n",
        "No ambiente Colab é possível utilizar os modelos de códigos prontos '*snippets*';\n",
        "Para utilizar é necessário clicar na opção  ```<>```, que será apresentado varios opções."
      ]
    },
    {
      "cell_type": "code",
      "metadata": {
        "id": "GPjsE_pu9yDW",
        "colab_type": "code",
        "colab": {}
      },
      "source": [
        "# Copie o repositório completo.\n",
        "!git clone -l -s git://github.com/jakevdp/PythonDataScienceHandbook.git cloned-repo\n",
        "%cd cloned-repo\n",
        "!ls"
      ],
      "execution_count": 0,
      "outputs": []
    },
    {
      "cell_type": "code",
      "metadata": {
        "id": "bQJndI599yCw",
        "colab_type": "code",
        "colab": {}
      },
      "source": [
        "# Busque um unico arquivo de 1MB no raw GitHub URL.\n",
        "!curl --remote-name \\\n",
        "     -H 'Accept: application/vnd.github.v3.raw' \\\n",
        "     --location https://api.github.com/repos/jakevdp/PythonDataScienceHandbook/contents/notebooks/data/california_cities.csv"
      ],
      "execution_count": 0,
      "outputs": []
    }
  ]
}